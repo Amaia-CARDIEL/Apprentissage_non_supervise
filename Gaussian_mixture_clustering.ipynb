{
 "cells": [
  {
   "cell_type": "markdown",
   "metadata": {},
   "source": [
    "# Projet de MU4MA074 - Probabilités numériques et statistiques computationnelles\n",
    "\n",
    "**Etudiants du binôme :** Sebastian Reboul (n°3711610), Amaia Cardiel (n°3310264)\n",
    "\n",
    "**Projet n° 30 :**  Comment choisir le bon nombre de clusters, dans le cadre d'un clustering au sein d'un modèle de mélange gaussien bidimensionnel ?"
   ]
  },
  {
   "cell_type": "code",
   "execution_count": 22,
   "metadata": {
    "collapsed": false
   },
   "outputs": [],
   "source": [
    "library(repr) # pour la taille des graphiques jupyter\n",
    "library('mvtnorm') # pour les densités gaussiennes bidimensionnelles"
   ]
  },
  {
   "cell_type": "markdown",
   "metadata": {},
   "source": [
    "### Introduction : pourquoi un modèle de clustering via mélange gaussien ?\n",
    "\n",
    "Une des méthodes de clustering les plus célèbres est l'algorithme k-means. Celui-ci est puissant et relativement simple à mettre en oeuvre car dépourvu de modélisation probabiliste. Il a néanmoins deux principaux défauts : \n",
    "* La forme des clusters obtenus est peu flexible (notamment, si la norme euclidienne est choisie dans les calculs de distance, ce qui est très fréquent, les clusters obtenus seront des boules euclidiennes)\n",
    "* L'association des données aux clusters est qualifiée de \"dure\" et \"déterministe\" (\"hard clustering\") \n",
    "\n",
    "Le fait d'effectuer du clustering par algorithme EM au sein d'un modèle de mélange gaussien permet de pallier ces deux défauts. En effet, les gaussiennes permettent d'identifier des clusters de forme elliptique beaucoup plus complexes et le cadre probabiliste permet d'effectuer du \"soft clustering\" (permettant à chaque donnée de participer avec des poids différents à l'estimation de chaque cluster).\n",
    "\n",
    "Puisque l'algorithme EM permet d'estimer l'EMV d'un nombre fini de paramètres du modèle (les proportions de chaque groupe du mélange ainsi que les paramètres de chaque gaussienne), il s'agit d'une approche dite \"model based\" et paramétrique. "
   ]
  },
  {
   "cell_type": "markdown",
   "metadata": {},
   "source": [
    "### 1) Présentation du modèle et des données considérées\n",
    "\n",
    "* **Modèle de mélange gaussien bidimensionnel**\n",
    "\n",
    "Soit $X=(X_{1},...,X_{n})$, n variables iid issues d'un modèle de mélange de C lois gaussiennes. En notant $Z =(Z_{1},...,Z_{n})$ les n variables latentes où chaque $Z_{i}$ correspond à l'étiquette de la variable $X_{i}$, on peut écrire la loi conditionnelle de $X_{i}$ et la loi de $Z_{i}$ comme suit :\n",
    "\n",
    "$\\forall i \\in \\{1,...,n\\}$,\n",
    "\n",
    "$\\mathcal{L}(X_{i}\\vert Z_{i}=j)=\\mathcal{N}(\\mu_{j},\\, Σ_{j})$,   avec $j \\in \\{1,...,C\\}$\n",
    "\n",
    "$\\mathbb{P}(Z_{i}=j)=\\pi_{j}$,  avec $j \\in \\{1,...,C\\}$ tel que $\\sum_{j=1}^{C}\\pi_{j}=1$\n",
    "\n",
    "On peut ainsi écrire la densité f du mélange de la manière suivante : \n",
    "\n",
    "$f_{\\theta}(x)=\\sum_{j=1}^{C}\\pi_{j}f_{j}(x), \\ \\ x \\in \\mathbf{R^{2}}$\n",
    "\n",
    "avec $f_{j}$ une densité de loi normale bidimensionnelle $\\mathcal{N}(\\mu_{j},\\, Σ_{j}) \\ \\ \\forall j \\in \\{1,...,C\\}$ \n",
    "\n",
    "L'utilisation de l'algorithme EM dans ce cadre aura pour but d'estimer le paramètre $\\theta$ du modèle : \n",
    "\n",
    "$\\theta=(\\pi_{1},...,\\pi_{C},\\mu_{1},...,\\mu_{C}, Σ_{1},...,  Σ_{C})$ où chaque $\\mu_{j} \\in \\mathbf{R^{2}}, Σ_{j} \\in M_{2,2}(\\mathbf{R})$\n",
    "\n",
    "Puisque les $\\pi_{j}$ somment à 1, on peut déduire la valeur de $\\pi_{C}$ à partir de $\\pi_{1},...,\\pi_{C-1}$.\n",
    "\n",
    "Notre modèle a donc **k=3C-1 paramètres inconnus** (C-1 réels, C vecteurs de dimension 2 et C matrices de dimension 2x2). \n",
    "\n",
    "* **Simulation de données synthétiques**\n",
    "\n",
    "Nous commençons ce projet par la simulation de données synthétiques, comme réalisations de X. Cette simulation nous permettra d'avoir accès aux étiquettes des données (la connaissance de la loi gaussienne ayant généré chaque variable).\n",
    "\n",
    "Afin d'avoir une grande variété de modèles possibles, aisément visualisables, sans trop d'excès de complexité, nous choisissons de générer des gaussiennes bidimensionnelles dont les composantes sont indépendantes (leur matrice de covariance sont diagonales).  \n",
    "\n",
    "La fonction suivante générera un échantillon de taille **n**, de nombre de composantes **C** (qu'on nommera souvent \"clusters\" par abus de langage) et de paramètres **param** laissés au choix. Elle retournera également le nombre d'étiquettes de chaque composante à travers la variable **Nb**. Notons que l'échantillon sera retourné sous la forme d'une matrice nx2 où la ligne i $\\in \\{1,...,n\\}$ contient les coordonnées de $x_{i} \\in \\mathbf{R^{2}}$."
   ]
  },
  {
   "cell_type": "code",
   "execution_count": 23,
   "metadata": {
    "collapsed": true
   },
   "outputs": [],
   "source": [
    "generate_2D<-function(n,C,param){\n",
    "  \n",
    "  pi = param[[1]]\n",
    "  mu = param[[2]]\n",
    "  sigma = param[[3]]\n",
    "  \n",
    "  Z=sample(size = n,x = 1:C,prob = pi,replace = TRUE) #on tire n réalisation \n",
    "  \n",
    "  Nb = numeric(length = C)\n",
    "  for (i in 1:C){\n",
    "    Nb[i]=sum(Z==i)  \n",
    "  }\n",
    "    \n",
    "  res = matrix(nrow = 0,ncol = 2)\n",
    "\n",
    "  for (k in 1:C){\n",
    "    M = matrix(nrow=Nb[k],ncol=2)\n",
    "    # dans rnorm le dernier paramètre est l'ecart type et non la variance\n",
    "    M[,1]=rnorm(Nb[k],mu[k,1],sigma[k,1]) \n",
    "    M[,2]=rnorm(Nb[k],mu[k,2],sigma[k,2])\n",
    "    res = rbind(res,M)\n",
    "  }\n",
    "\n",
    "  return(list(\"Data\"=res,\"Nb\" = Nb))\n",
    "}"
   ]
  },
  {
   "cell_type": "markdown",
   "metadata": {},
   "source": [
    "Déclarons **$\\theta_{true}$** une liste de paramètres ($\\pi$,$\\mu$,Σ) choisis arbitrairement tels que :\n",
    "\n",
    "* $\\pi_{true}$= (0.2,0.15,0.3,0.35)\n",
    "* $\\mu_{true}$= (\n",
    "$\\begin{pmatrix}\n",
    "8 \\\\\n",
    "20\n",
    "\\end{pmatrix}$, \n",
    "$\\begin{pmatrix}\n",
    "15 \\\\\n",
    "10\n",
    "\\end{pmatrix}$, \n",
    "$\\begin{pmatrix}\n",
    "15 \\\\\n",
    "-1\n",
    "\\end{pmatrix}$,\n",
    "$\\begin{pmatrix}\n",
    "22 \\\\\n",
    "20\n",
    "\\end{pmatrix}$)\n",
    "* $Σ_{true}$ = (\n",
    "$\\begin{pmatrix}\n",
    "9 & 0\\\\\n",
    "0 & 1\n",
    "\\end{pmatrix}$, \n",
    "$\\begin{pmatrix}\n",
    "1 & 0\\\\\n",
    "0 & 9\n",
    "\\end{pmatrix}$, \n",
    "$\\begin{pmatrix}\n",
    "4 & 0\\\\\n",
    "0 & 4\n",
    "\\end{pmatrix}$,\n",
    "$\\begin{pmatrix}\n",
    "6.25 & 0\\\\\n",
    "0 & 6.25\n",
    "\\end{pmatrix}$)\n",
    "\n",
    "Nous pouvons alors appeler notre fonction pour générer des données issues de ce mélange gaussien."
   ]
  },
  {
   "cell_type": "code",
   "execution_count": 24,
   "metadata": {
    "collapsed": false
   },
   "outputs": [
    {
     "name": "stdout",
     "output_type": "stream",
     "text": [
      "[1] \"Nombre de variables générées dans chacun des 4 sous-groupes :\"\n",
      "[1]  98  73 149 180\n"
     ]
    }
   ],
   "source": [
    "C = 4 # nombre de \"clusters\" ou \"sous-groupes\" du mélange gaussien\n",
    "pi = c(0.2,0.15,0.3,0.35) # proportions de données au sein de chaque groupe\n",
    "mu = matrix(nrow = C,ncol = 2,data = c(8,15,15,22,20,10,-1,20)) # moyennes des gaussiennes\n",
    "sigma = matrix(nrow = C,ncol = 2,data = c(3,1,2,2.5,1,3,2,2.5)) # racines des valeurs diagonales des matrices de covariance\n",
    "true_theta = list(pi,mu,sigma)\n",
    "n=500\n",
    "set.seed(123) # on fixe la graine pour travailler à échantillon fixé\n",
    "Ech=generate_2D(n,C,true_theta)\n",
    "echantillon = Ech$Data # Echantillon obtenu\n",
    "Nb=Ech$Nb # Nombre de données générées pour chaque cluster\n",
    "print('Nombre de variables générées dans chacun des 4 sous-groupes :')\n",
    "print(Nb)"
   ]
  },
  {
   "cell_type": "markdown",
   "metadata": {},
   "source": [
    "Visualisons les données générées sans en indiquer les étiquettes (variables Zi) :"
   ]
  },
  {
   "cell_type": "code",
   "execution_count": 25,
   "metadata": {
    "collapsed": false
   },
   "outputs": [
    {
     "data": {
      "image/png": "[encoded data removed]",
      "text/plain": [
       "Plot with title \"Données synthétiques\""
      ]
     },
     "metadata": {},
     "output_type": "display_data"
    }
   ],
   "source": [
    "par(mfrow = c(1,1))\n",
    "options(repr.plot.width=4, repr.plot.height=4) # permet de choisir la taille des graphiques sur jupyter notebook\n",
    "\n",
    "# plot du nuage de points des données synthétiques (sans label)\n",
    "plot(x = Ech$Data[,1], y = Ech$Data[,2], pch=1,col = \"blue\", xlim = c(min(mu[,1])-5,max(mu[,1])+5),ylim = c(min(mu[,2])-5,max(mu[,2])+5), main=\"Données synthétiques\", xlab='abscisses des données', ylab='ordonnées des données')"
   ]
  },
  {
   "cell_type": "markdown",
   "metadata": {},
   "source": [
    "* **Visualisation des étiquettes et de la densité réelle de l'échantillon**"
   ]
  },
  {
   "cell_type": "markdown",
   "metadata": {},
   "source": [
    "Le package 'mvtnorm' nous permet d'appeler aisément la densité d'une variable gaussienne bidimensionnelle. Cela nous permet de définir une fonction qui retourne la densité de notre mélange gaussien synthétique (afin de faire un contour plot). Nous nommerons cette fonction \"estimated_density\" car elle nous servira plus tard à définir les densités pour des $\\widehat \\theta$ estimés mais dans un premier temps elle nous donnera la \"vraie densité\" pour le $\\theta_{true}$ ayant généré l'échantillon. "
   ]
  },
  {
   "cell_type": "code",
   "execution_count": 26,
   "metadata": {
    "collapsed": true
   },
   "outputs": [],
   "source": [
    "# mvtnorm requiert un formatage de sigma légèrement différent \n",
    "# on ne donne pas l'ecart type des valeurs diagonales mais les matrices de covariance elles-même en entier (en ligne)\n",
    "sigma=matrix(c(9,1,4,6.25,0,0,0,0,0,0,0,0,1,9,4,6.25),nrow=4,ncol=4) \n",
    "true_theta = list(pi,mu,sigma)"
   ]
  },
  {
   "cell_type": "code",
   "execution_count": 27,
   "metadata": {
    "collapsed": true
   },
   "outputs": [],
   "source": [
    "estimated_density <- function(x,theta_sol){ # avec x de dimension 2 \n",
    "  pi = theta_sol[[1]]\n",
    "  mu = theta_sol[[2]]\n",
    "  sigma = theta_sol[[3]]\n",
    "  C = length(pi)\n",
    "  dens=0\n",
    "  for (j in 1:C){\n",
    "    sigmaj=matrix(sigma[j,],ncol=2)\n",
    "    dens=dens+pi[j]*dmvnorm(x, mean = mu[j,], sigma = sigmaj)\n",
    "  }\n",
    "  return(dens)\n",
    "}"
   ]
  },
  {
   "cell_type": "markdown",
   "metadata": {},
   "source": [
    "Nous définissons une fonction d'affichage qui nous permettra de représenter l'échantillon synthétique sur lequel on superpose le contour plot d'une densité (densité définie via le theta_sol passé en argument)."
   ]
  },
  {
   "cell_type": "code",
   "execution_count": 28,
   "metadata": {
    "collapsed": true
   },
   "outputs": [],
   "source": [
    "affiche_contour <- function(Ech,theta_sol,main=paste(\"Densité estimée pour C=\",C)){ # Avec Ech, la liste retournée par la fonction generate_2D\n",
    "\n",
    "     pi = theta_sol[[1]]\n",
    "      C = length(pi)\n",
    "    \n",
    "    # Construction d'une matrice (pour le contour plot)\n",
    "  x <- seq(min(mu[,1])-5, max(mu[,1])+5, by = 0.5)\n",
    "  y <- seq(min(mu[,2])-5, max(mu[,2])+5, by = 0.5)\n",
    "  DensMat<- matrix(NA, nrow = length(x), ncol = length(y))\n",
    "  for (i in 1:length(x)){\n",
    "    for (j in 1:length(y)){\n",
    "      DensMat[i,j] <- estimated_density(c(x[i],y[j]),theta_sol)\n",
    "    }\n",
    "  }\n",
    "  \n",
    "    Nb = Ech$Nb\n",
    "    n = length(Ech$Data[,1])\n",
    "    \n",
    "    par(mfrow = c(1,1))\n",
    "    options(repr.plot.width=4, repr.plot.height=4) # permet de choisir la taille des graphiques sur jupyter notebook\n",
    "\n",
    "    # plot des points des données synthétiques\n",
    "    plot(x = Ech$Data[1:Nb[1],1], y = Ech$Data[1:Nb[1],2], pch=1,col = \"green\", xlim = c(min(mu[,1])-5,max(mu[,1])+5),ylim = c(min(mu[,2])-5,max(mu[,2])+5), main=main, xlab='abscisses des données', ylab='ordonnées des données')\n",
    "    points(x = Ech$Data[(Nb[1]+1):(Nb[1]+Nb[2]),1], y = Ech$Data[(Nb[1]+1):(Nb[1]+Nb[2]),2], pch=1,col = \"blue\")\n",
    "    points(x = Ech$Data[(Nb[1]+Nb[2]+1):(Nb[1]+Nb[2]+Nb[3]),1], y = Ech$Data[(Nb[1]+Nb[2]+1):(Nb[1]+Nb[2]+Nb[3]),2], pch=1,col = \"orange\")\n",
    "    points(x = Ech$Data[(Nb[1]+Nb[2]+Nb[3]+1):n,1], y = Ech$Data[(Nb[1]+Nb[2]+Nb[3]+1):n,2], pch=1,col = \"red\")\n",
    "\n",
    "    legend(23,7, legend=c(\"Zi=1\",\"Zi=2\",\"Zi=3\",\"Zi=4\"),col = c(\"green\",\"blue\",\"orange\",\"red\"), pch=20,cex=0.8,box.lty=0,y.intersp=2)\n",
    "    \n",
    "    # contour de la densité calculée à partir du theta_sol en argument \n",
    "    contour(x, y, DensMat, add = TRUE, nlevels=10,lwd=1, lty=7,labcex = 1.9,drawlabels = FALSE) # simple contour\n",
    "}"
   ]
  },
  {
   "cell_type": "markdown",
   "metadata": {},
   "source": [
    "Visualisons les données générées (avec les contours de la vraie densité sous-jacente en noir) :"
   ]
  },
  {
   "cell_type": "code",
   "execution_count": 29,
   "metadata": {
    "collapsed": false,
    "scrolled": false
   },
   "outputs": [
    {
     "data": {
      "image/png": "[encoded data removed]",
      "text/plain": [
       "Plot with title \"Densité réelle de l'échantillon\""
      ]
     },
     "metadata": {},
     "output_type": "display_data"
    }
   ],
   "source": [
    "affiche_contour(Ech,true_theta,main=\"Densité réelle de l'échantillon\") # avec Ech, la liste retournée par la fonction generate_2D"
   ]
  },
  {
   "cell_type": "markdown",
   "metadata": {},
   "source": [
    "### 2) Algorithme EM\n",
    "\n",
    "Cet algorithme est une procédure itérative ayant pour but d'approcher l'EMV défini comme suit : \n",
    "\n",
    "$\\widehat \\theta^{MV}=argmax_{\\theta} \\ l(\\theta)$ \n",
    "\n",
    "où $l(\\theta)$ est la log vraisemblance des données incomplètes, i.e. :\n",
    "\n",
    "$l(\\theta)=\\sum_{i=1}^{n}log(\\sum_{j=1}^{C}\\pi_{j}f_{j}(x)), \\ \\ x \\in \\mathbf{R^{2}}$\n",
    "\n",
    "Un résultat majeur du cours concernant la suite $(\\theta^{(t)})_{t\\geq1}$ obtenue par l'algorithme est que $l(\\theta^{(t+1)})\\geq l(\\theta^{(t)}) \\ \\forall t$. Une fois codé, il s'agira de vérifier que notre algorithme présente cette propriété. C'est pourquoi nous définissons dès à présent la fonction de log vraisemblance.\n",
    "\n",
    "**Notation** : Notons que désormais et pour le reste de ce projet, $\\theta$ est une liste de 3 éléments contenant :\n",
    "* en tant que premier élément le vecteur des C valeurs $\\pi_{j}$, \n",
    "* en tant que second élément une matrice Cx2 contenant à la ligne j le vecteur $\\mu_{j}$ de dimension 2,\n",
    "* en tant que troisième élément une matrice de taille Cx4 contenant à la ligne j les éléments de la matrice 2x2 $Σ_{j}$ stockés sous forme d'un vecteur de dimension 4 ($Σ_{j,1,1}, Σ_{j,1,2},Σ_{j,2,1},Σ_{j,2,2}$)."
   ]
  },
  {
   "cell_type": "code",
   "execution_count": 30,
   "metadata": {
    "collapsed": true
   },
   "outputs": [],
   "source": [
    "logvrais = function(theta,echantillon){\n",
    "  n = length(echantillon[,1])\n",
    "  pi = theta[[1]]\n",
    "  C = length(pi)\n",
    "  if(C==1){mu = matrix(data = theta[[2]],nrow = 1,ncol = 2)}\n",
    "  else{mu = theta[[2]]}\n",
    "  sigma = theta[[3]]\n",
    "  res=0\n",
    "  for (i in 1:n){\n",
    "    x = echantillon[i,]\n",
    "    interieur = 0\n",
    "    for (j in 1:C){\n",
    "      sigmaj = matrix(data = sigma[j,],nrow = 2,ncol = 2)\n",
    "      interieur = interieur + pi[j]*dmvnorm(x=x,mean = mu[j,],sigma = sigmaj)\n",
    "    }\n",
    "    res = res + log(interieur)\n",
    "  }\n",
    "  return(res)\n",
    "}"
   ]
  },
  {
   "cell_type": "markdown",
   "metadata": {},
   "source": [
    "#### Initialisation\n",
    "\n",
    "Trois grands types de choix s'offrent pour l'initialisation des 3C-1 paramètres : choisir des valeurs initiales arbitraires, aléatoires ou déjà \"informées\" (par exemple en ayant recours à l'algorithme k-means au préalable). \n",
    "\n",
    "Nous ferons le choix d'une initialisation aléatoire tout en utilisant les données pour ne pas partir de données aberrantes. En effet, une bonne initialisation, en particulier des valeurs $\\mu_{j}$, est déterminante pour le bon fonctionnement de l'algorithme. Ainsi, nous suivrons les recommandations vues en TP et choisirons une initialisation comme suit :\n",
    "\n",
    "* les vecteurs $\\mu_{j}$ seront initialisés à l'aide de C réalisations $x_{i}$ que nous tirerons au hasard parmi les données\n",
    "* les matrices de covariance $Σ_{j}$ seront toute initialisées par la valeur de la variance empirique $s_{x}^{2}$ de l'échantillon calculée ainsi : \n",
    "$s_{x}^{2}=\\frac{1}{n}\\sum_{i=1}^{n}(x_{i}-\\overline{x})(x_{i}-\\overline{x})^{T}$\n",
    "* on choisira une répartition uniforme des proportions initiales des clusters soit $\\pi_{j}=\\frac{1}{C} \\ \\ \\forall j \\in \\{1,...,C\\}$\n",
    "\n",
    "Enfin, puisque l'algorithme peut converger vers des maxima locaux, il sera important de lancer l'algorithme EM à partir de L initialisations différentes (L=5 ou L=10 par exemple) et de choisir parmi les différentes solutions ($\\widehat \\theta_{1},...,\\widehat \\theta_{L}$) obtenues celle qui donne la plus haute valeur de log vraisemblance, i.e. $\\widehat \\theta=argmax \\ \\ l(\\widehat \\theta_{l}), \\ l \\in \\{1,...,L\\}$. Cette solution sera alors celle conservée comme estimateur final de $\\theta$."
   ]
  },
  {
   "cell_type": "code",
   "execution_count": 31,
   "metadata": {
    "collapsed": true
   },
   "outputs": [],
   "source": [
    "initialisation <- function(echantillon,C){\n",
    "  n = length(echantillon[,1])\n",
    "  #var\n",
    "  xbar = colMeans(echantillon)\n",
    "  M = echantillon - t(matrix(xbar,nrow = 2,ncol =n))\n",
    "  sigmaj = ((t(M)%*%M)/n)\n",
    "  sigma = t(matrix(data = sigmaj,nrow = 4,ncol = C))\n",
    "  #mean\n",
    "  mu = echantillon[sample(x = 1:n,size = C,replace = FALSE),]\n",
    "  #pi\n",
    "  pi = rep(x = 1/C,C)\n",
    "  return(list(\"pi\"=pi,\"mu\"=mu,\"sigma\"=sigma))\n",
    "}"
   ]
  },
  {
   "cell_type": "markdown",
   "metadata": {},
   "source": [
    "Voyons ce que retourne cette fonction lors de son appel :"
   ]
  },
  {
   "cell_type": "code",
   "execution_count": 13,
   "metadata": {
    "collapsed": false
   },
   "outputs": [
    {
     "name": "stdout",
     "output_type": "stream",
     "text": [
      "$pi\n",
      "[1] 0.25 0.25 0.25 0.25\n",
      "\n",
      "$mu\n",
      "         [,1]      [,2]\n",
      "[1,] 16.40405  6.441380\n",
      "[2,] 22.11683 20.242261\n",
      "[3,] 13.24949 -4.235548\n",
      "[4,] 23.71300 23.599403\n",
      "\n",
      "$sigma\n",
      "         [,1]     [,2]     [,3]     [,4]\n",
      "[1,] 30.83737 10.24646 10.24646 88.77834\n",
      "[2,] 30.83737 10.24646 10.24646 88.77834\n",
      "[3,] 30.83737 10.24646 10.24646 88.77834\n",
      "[4,] 30.83737 10.24646 10.24646 88.77834\n",
      "\n"
     ]
    }
   ],
   "source": [
    "set.seed(123) # on fixe la graine \n",
    "theta_0=initialisation(Ech$Data,C)\n",
    "print(theta_0)"
   ]
  },
  {
   "cell_type": "markdown",
   "metadata": {},
   "source": [
    "#### Phase itérative\n",
    "\n",
    "* **Etape E**\n",
    "\n",
    "A chaque itération t, l'etape E (expectation) de l'algorithme calcule la distribution de $Z_{i}$ sachant $X_{i}$ et $\\theta^{(t)}$ comme suit : \n",
    "\n",
    "$\\alpha_{i,j}:=\\mathbb{P}(Z_{i}=j\\vert X_{i}=x_{i},\\theta^{(t)})=\\frac{\\pi_{j}f_{j}(x_{i})}{\\sum_{j=1}^{C}\\pi_{j}f_{j}(x_{i})}$\n",
    "\n",
    "Il s'agira ensuite de calculer et maximiser la fonction Q suivante : \n",
    "\n",
    "$Q(\\theta \\vert \\theta^{(t)})=\\mathbb{E}_{Z\\vert X,\\theta^{(t)}}[log L(X,Z \\vert \\theta)]$\n",
    "\n",
    "* **Etape M**\n",
    "\n",
    "D'après le cours, l'étape M (maximisation) en $\\theta$ de la fonction $Q(\\theta \\vert \\theta^{(t)})$ donne les valeurs suivantes (au temps t+1) des $\\pi_{j},\\mu_{j}$ et $Σ_{j} \\  \\forall j \\in \\{1,...,C\\}$ :\n",
    "\n",
    "$\\pi_{j}^{(t+1)}=\\frac{1}{n}\\sum_{i=1}^{n}\\alpha_{i,j}$\n",
    "\n",
    "$\\mu_{j}^{(t+1)}=\\frac{\\sum_{i=1}^{n}\\alpha_{i,j}x_{i}}{\\sum_{i=1}^{n}\\alpha_{i,j}}$\n",
    "\n",
    "$Σ_{j}^{(t+1)}=\\frac{\\sum_{i=1}^{n}\\alpha_{i,j}(x_{i}-\\mu_{j}^{(t+1)})(x_{i}-\\mu_{j}^{(t+1)})^{T}}{\\sum_{i=1}^{n}\\alpha_{i,j}}$\n",
    "\n",
    "On définira tout d'abord la fonction update_theta permettant de passer de $\\theta^{(t)}$ à $\\theta^{(t+1)}$ selon les formules ci-dessus :"
   ]
  },
  {
   "cell_type": "code",
   "execution_count": 32,
   "metadata": {
    "collapsed": true
   },
   "outputs": [],
   "source": [
    "update_theta <- function(echantillon,theta){\n",
    "  n = length(echantillon[,1])\n",
    "  pi = theta[[1]]\n",
    "  C = length(pi)\n",
    "  if(C==1){mu = matrix(data = theta[[2]],nrow = 1,ncol = 2)}\n",
    "  else{mu = theta[[2]]}\n",
    "  sigma = theta[[3]]\n",
    "  alpha = matrix(nrow = n,ncol = C)\n",
    "  #alphaij\n",
    "  for (i in 1:n){\n",
    "    for (j in 1:C){\n",
    "      denominateur = 0\n",
    "      for (k in 1:C){\n",
    "        sigmak = matrix(data = sigma[k,],nrow = 2,ncol = 2)\n",
    "        denominateur= denominateur + pi[k]*dmvnorm(x=echantillon[i,],mean = mu[k,],sigma = sigmak)\n",
    "          }\n",
    "      sigmaj = matrix(data = sigma[j,],nrow = 2,ncol = 2)\n",
    "      alpha[i,j]=(pi[j]*dmvnorm(x=echantillon[i,],mean = mu[j,],sigma = sigmaj))/(denominateur)\n",
    "      }\n",
    "  }\n",
    "  newpi = colMeans(alpha)\n",
    "  newmu = (t(alpha)%*%echantillon)/(colSums(alpha))\n",
    "  newsigma = matrix(nrow = C,ncol = 4)\n",
    "  for (j in 1:C){\n",
    "    M = echantillon - t(matrix(newmu[j,],nrow = 2,ncol =n))\n",
    "    sigmaj = (t(M)%*%(M*(alpha[,j])))/sum(alpha[,j])\n",
    "    newsigma[j,] = c(sigmaj)\n",
    "  }\n",
    "  return(list(newpi,newmu,newsigma))\n",
    "}"
   ]
  },
  {
   "cell_type": "markdown",
   "metadata": {},
   "source": [
    "* **Etude empirique de l'évolution de la logvraisemblance**\n",
    "\n",
    "L'appel successif de cette fonction de mise à jour et de notre fonction de logvraisemblance nous permet de vérifier dès à présent (de manière empirique) que notre algorithme permet bien de générer une suite $(\\theta^{(t)})_{t\\geq1}$ telle que $l(\\theta^{(t+1)})\\geq l(\\theta^{(t)}) \\ \\forall t$. Pour cela traçons la vraisemblance en fonction du nombre d'itérations."
   ]
  },
  {
   "cell_type": "code",
   "execution_count": 33,
   "metadata": {
    "collapsed": false
   },
   "outputs": [],
   "source": [
    "set.seed(123) # on fixe la graine \n",
    "theta=initialisation(echantillon,C)\n",
    "logv=c(logvrais(theta,echantillon))\n",
    "for (t in 1:30){\n",
    "  theta = update_theta(echantillon = echantillon,theta=theta)\n",
    "  logv = c(logv,logvrais(theta,echantillon))\n",
    "}"
   ]
  },
  {
   "cell_type": "code",
   "execution_count": 34,
   "metadata": {
    "collapsed": false
   },
   "outputs": [
    {
     "data": {
      "image/png": "[encoded data removed]",
      "text/plain": [
       "Plot with title \"Evolution de la logvraisemblance\""
      ]
     },
     "metadata": {},
     "output_type": "display_data"
    }
   ],
   "source": [
    "plot(x=0:30,y=logv, t='l', lwd = 2, main=\"Evolution de la logvraisemblance\",col=\"blue\", xlab='Itérations t', ylab='logvrais(theta_t)')\n",
    "points(x=0:30,y=logv,pch=20,col='blue')"
   ]
  },
  {
   "cell_type": "markdown",
   "metadata": {},
   "source": [
    "Nous constatons que la logvraisemblance augmente bien après chaque mise à jour de $\\theta^{(t)}$, ce que nous souhaitions vérifier empiriquement.\n",
    "Notons également que le plus grand gain semble avoir été réalisé dès les premières mises à jour.\n",
    "Enfin, il semble que l'algorithme ait convergé dès t=12. "
   ]
  },
  {
   "cell_type": "markdown",
   "metadata": {},
   "source": [
    "* **Code de l'algorithme intégral**\n",
    "\n",
    "Nous pouvons enfin regrouper toutes nos fonctions auxiliaires au sein d'une même fonction générant l'intégralité de l'algorithme. Celui-ci calcule pour L initialisations aléatoires différentes les valeurs $\\widehat \\theta_{1},...,\\widehat \\theta_{L}$ puis retourne celle qui maximise la logvraisemblance. "
   ]
  },
  {
   "cell_type": "code",
   "execution_count": 35,
   "metadata": {
    "collapsed": true
   },
   "outputs": [],
   "source": [
    "algo_EM <- function(L,maxiter,echantillon,C,seuil){\n",
    "  \n",
    "  listtheta = list()\n",
    "  listlog = c()\n",
    "  \n",
    "  for (iteration in 1:L){\n",
    "    oldtheta = initialisation(echantillon,C)\n",
    "    oldlog = logvrais(oldtheta,echantillon = echantillon)\n",
    "    critère = TRUE\n",
    "    iter = 0\n",
    "    \n",
    "    while((critère)&&(iter < maxiter)){ \n",
    "      \n",
    "      newtheta = update_theta(echantillon = echantillon,theta=oldtheta)\n",
    "      newlog = logvrais(newtheta,echantillon = echantillon)\n",
    "      \n",
    "      iter = iter +1\n",
    "      critère = (abs(oldlog - newlog)>seuil)\n",
    "      \n",
    "      oldlog = newlog\n",
    "      oldtheta = newtheta\n",
    "    }\n",
    "    listtheta = append(listtheta,list(newtheta))\n",
    "    listlog = c(listlog,newlog)\n",
    "  }\n",
    "  n = which.max(x = listlog)\n",
    "  return(listtheta[[n]])\n",
    "}"
   ]
  },
  {
   "cell_type": "markdown",
   "metadata": {},
   "source": [
    "Comparons $\\widehat \\theta_{test}$, une valeur estimée par l'algorithme, à la vraie valeur $\\theta_{true}$ que nous avons utilisée pour générer nos données.\n",
    "\n",
    "Pour rappel, $\\theta_{true}$ était tel que : \n",
    "\n",
    "\n",
    "* $\\pi_{true}$= (0.2,0.15,0.3,0.35)\n",
    "* $\\mu_{true}$= (\n",
    "$\\begin{pmatrix}\n",
    "8 \\\\\n",
    "20\n",
    "\\end{pmatrix}$, \n",
    "$\\begin{pmatrix}\n",
    "15 \\\\\n",
    "10\n",
    "\\end{pmatrix}$, \n",
    "$\\begin{pmatrix}\n",
    "15 \\\\\n",
    "-1\n",
    "\\end{pmatrix}$,\n",
    "$\\begin{pmatrix}\n",
    "22 \\\\\n",
    "20\n",
    "\\end{pmatrix}$)\n",
    "* $Σ_{true}$ = (\n",
    "$\\begin{pmatrix}\n",
    "9 & 0\\\\\n",
    "0 & 1\n",
    "\\end{pmatrix}$, \n",
    "$\\begin{pmatrix}\n",
    "1 & 0\\\\\n",
    "0 & 9\n",
    "\\end{pmatrix}$, \n",
    "$\\begin{pmatrix}\n",
    "4 & 0\\\\\n",
    "0 & 4\n",
    "\\end{pmatrix}$,\n",
    "$\\begin{pmatrix}\n",
    "6.25 & 0\\\\\n",
    "0 & 6.25\n",
    "\\end{pmatrix}$)"
   ]
  },
  {
   "cell_type": "code",
   "execution_count": 87,
   "metadata": {
    "collapsed": false
   },
   "outputs": [],
   "source": [
    "set.seed(123) # on fixe la graine pour obtenir un theta_test \"fixé\" (pour que le commentaire qui suit reste pertinent)\n",
    "theta_test=algo_EM(L=5,maxiter=40,echantillon=echantillon,C=C,seuil=0.05)"
   ]
  },
  {
   "cell_type": "code",
   "execution_count": 88,
   "metadata": {
    "collapsed": false
   },
   "outputs": [
    {
     "data": {
      "text/html": [
       "<ol>\n",
       "\t<li><ol class=list-inline>\n",
       "\t<li>0.147105072829891</li>\n",
       "\t<li>0.296174522602865</li>\n",
       "\t<li>0.196755503497221</li>\n",
       "\t<li>0.359964901070023</li>\n",
       "</ol>\n",
       "</li>\n",
       "\t<li><table>\n",
       "<tbody>\n",
       "\t<tr><td>15.110964 </td><td> 9.9146145</td></tr>\n",
       "\t<tr><td>14.844885 </td><td>-0.8231598</td></tr>\n",
       "\t<tr><td> 8.456387 </td><td>19.9493750</td></tr>\n",
       "\t<tr><td>22.162838 </td><td>19.8548747</td></tr>\n",
       "</tbody>\n",
       "</table>\n",
       "</li>\n",
       "\t<li><table>\n",
       "<tbody>\n",
       "\t<tr><td>0.9694506 </td><td>-0.4330062</td><td>-0.4330062</td><td>7.768749  </td></tr>\n",
       "\t<tr><td>4.0276105 </td><td> 0.2104817</td><td> 0.2104817</td><td>4.444426  </td></tr>\n",
       "\t<tr><td>9.1059883 </td><td> 0.5522650</td><td> 0.5522650</td><td>1.029485  </td></tr>\n",
       "\t<tr><td>6.6639132 </td><td>-0.2002497</td><td>-0.2002497</td><td>6.154034  </td></tr>\n",
       "</tbody>\n",
       "</table>\n",
       "</li>\n",
       "</ol>\n"
      ],
      "text/latex": [
       "\\begin{enumerate}\n",
       "\\item \\begin{enumerate*}\n",
       "\\item 0.147105072829891\n",
       "\\item 0.296174522602865\n",
       "\\item 0.196755503497221\n",
       "\\item 0.359964901070023\n",
       "\\end{enumerate*}\n",
       "\n",
       "\\item \\begin{tabular}{ll}\n",
       "\t 15.110964  &  9.9146145\\\\\n",
       "\t 14.844885  & -0.8231598\\\\\n",
       "\t  8.456387  & 19.9493750\\\\\n",
       "\t 22.162838  & 19.8548747\\\\\n",
       "\\end{tabular}\n",
       "\n",
       "\\item \\begin{tabular}{llll}\n",
       "\t 0.9694506  & -0.4330062 & -0.4330062 & 7.768749  \\\\\n",
       "\t 4.0276105  &  0.2104817 &  0.2104817 & 4.444426  \\\\\n",
       "\t 9.1059883  &  0.5522650 &  0.5522650 & 1.029485  \\\\\n",
       "\t 6.6639132  & -0.2002497 & -0.2002497 & 6.154034  \\\\\n",
       "\\end{tabular}\n",
       "\n",
       "\\end{enumerate}\n"
      ],
      "text/markdown": [
       "1. 1. 0.147105072829891\n",
       "2. 0.296174522602865\n",
       "3. 0.196755503497221\n",
       "4. 0.359964901070023\n",
       "\n",
       "\n",
       "\n",
       "2. \n",
       "| 15.110964  |  9.9146145 | \n",
       "| 14.844885  | -0.8231598 | \n",
       "|  8.456387  | 19.9493750 | \n",
       "| 22.162838  | 19.8548747 | \n",
       "\n",
       "\n",
       "\n",
       "3. \n",
       "| 0.9694506  | -0.4330062 | -0.4330062 | 7.768749   | \n",
       "| 4.0276105  |  0.2104817 |  0.2104817 | 4.444426   | \n",
       "| 9.1059883  |  0.5522650 |  0.5522650 | 1.029485   | \n",
       "| 6.6639132  | -0.2002497 | -0.2002497 | 6.154034   | \n",
       "\n",
       "\n",
       "\n",
       "\n",
       "\n"
      ],
      "text/plain": [
       "[[1]]\n",
       "[1] 0.1471051 0.2961745 0.1967555 0.3599649\n",
       "\n",
       "[[2]]\n",
       "          [,1]       [,2]\n",
       "[1,] 15.110964  9.9146145\n",
       "[2,] 14.844885 -0.8231598\n",
       "[3,]  8.456387 19.9493750\n",
       "[4,] 22.162838 19.8548747\n",
       "\n",
       "[[3]]\n",
       "          [,1]       [,2]       [,3]     [,4]\n",
       "[1,] 0.9694506 -0.4330062 -0.4330062 7.768749\n",
       "[2,] 4.0276105  0.2104817  0.2104817 4.444426\n",
       "[3,] 9.1059883  0.5522650  0.5522650 1.029485\n",
       "[4,] 6.6639132 -0.2002497 -0.2002497 6.154034\n"
      ]
     },
     "metadata": {},
     "output_type": "display_data"
    }
   ],
   "source": [
    "theta_test"
   ]
  },
  {
   "cell_type": "markdown",
   "metadata": {},
   "source": [
    "On remarque que cette estimation semble très satisfaisante si l'on considère que les résultats obtenus le sont à permutation près concernant la numérotation des sous-groupes distingués.\n",
    "En effet on observe que :\n",
    "* le premier groupe identifié par $\\widehat \\theta_{test}$ correspond au deuxième groupe (Zi=2) selon $\\theta_{true}$,\n",
    "\n",
    "* le deuxième groupe identifié par $\\widehat \\theta_{test}$ correspond au troisième groupe (Zi=3) selon $\\theta_{true}$,\n",
    "\n",
    "* le troisième groupe identifié par $\\widehat \\theta_{test}$ correspond au premier groupe (Zi=1) selon $\\theta_{true}$,\n",
    "\n",
    "* le quatrième groupe identifié par $\\widehat \\theta_{test}$ correspond bien au dernier groupe (Zi=4) selon $\\theta_{true}$.\n",
    "\n",
    "Ce constat illustre le phénomène du **\"label switching\"** : l'algorithme a produit une estimation satisfaisante des paramètres mais ne les a tout simplement pas numérotés dans le même ordre que les paramètres réels sous-jacents. \n",
    "Les résultats ne sont pas invalidés pour autant mais il faut rester vigilant et prendre ce phénomène en compte lors de l'analyse des résultats obtenus."
   ]
  },
  {
   "cell_type": "markdown",
   "metadata": {},
   "source": [
    "Superposons au graphique de notre échantillon initial celui du contour plot de la densité obtenue pour le $\\widehat \\theta_{test}$ estimé."
   ]
  },
  {
   "cell_type": "code",
   "execution_count": 89,
   "metadata": {
    "collapsed": false,
    "scrolled": true
   },
   "outputs": [
    {
     "data": {
      "image/png": "[encoded data removed]",
      "text/plain": [
       "Plot with title \"Densité estimée pour C=4\""
      ]
     },
     "metadata": {},
     "output_type": "display_data"
    }
   ],
   "source": [
    "affiche_contour(Ech,theta_test,main=\"Densité estimée pour C=4\") # Avec Ech, la liste retournée par la fonction generate_2D pour notre échantillon"
   ]
  },
  {
   "cell_type": "markdown",
   "metadata": {},
   "source": [
    "### 3) Choix du nombre de clusters optimal"
   ]
  },
  {
   "cell_type": "markdown",
   "metadata": {},
   "source": [
    "* **Critères AIC (Akaike information criterion) et BIC (Bayesian Information Criterion)**\n",
    "\n",
    "Une méthode classique pour choisir le nombre \"optimal\" de cluster est de calculer les critères AIC et/ou BIC et de choisir le nombre de clusters qui minimise ces derniers. \n",
    "\n",
    "Formules des deux critères :\n",
    "* AIC = 2k - log($\\widehat L$)\n",
    "* BIC = klog(n) - 2log($\\widehat L$)\n",
    "\n",
    "Avec : \n",
    "* k : nombre de paramètres du modèle (ici, k=3C-1, comme calculé en Partie 1)\n",
    "\n",
    "* n : nombre de données considérées (ici, n est la taille de notre échantillon synthétique)\n",
    "\n",
    "* $log(\\widehat L)=log(L(\\widehat \\theta))=l(\\widehat \\theta)$ : logvraisemblance évaluée en le \"meilleur\" estimateur de $\\theta$ (pour plusieurs initialisations)\n",
    "\n",
    "Ces deux critères ont pour but d'estimer le degré d'ajustement aux données pour un modèle spécifique (via la vraisemblance), tout en \"pénalisant\" le calcul via le nombre de paramètres (et donc de clusters) utilisés. Ces critères ont ainsi pour but d'éviter le surapprentissage (\"overfit\") par rapport aux données puisque les modèles les plus complexes seront les plus pénalisés. Ces critères indiquent donc de choisir le nombre de clusters qui effectue le meilleur compromis entre l'ajustement aux données et la complexité de la modélisation. \n",
    "\n",
    "N.B. : On notera que le critère AIC ne pénalise qu'en fonction du nombre de paramètres (k) quand le critère BIC prend également en compte la taille de l'échantillon considéré (n) afin d'estimer la pertinence des modèles. "
   ]
  },
  {
   "cell_type": "code",
   "execution_count": 36,
   "metadata": {
    "collapsed": true
   },
   "outputs": [],
   "source": [
    "AIC<-function(theta_sol,echantillon){\n",
    "  pi=theta_sol[[1]]\n",
    "  C = length(pi)\n",
    "  k=3*C-1\n",
    "  L=logvrais(theta_sol,echantillon)\n",
    "  return(2*k-L)\n",
    "}"
   ]
  },
  {
   "cell_type": "code",
   "execution_count": 37,
   "metadata": {
    "collapsed": true
   },
   "outputs": [],
   "source": [
    "BIC<-function(theta_sol,echantillon){\n",
    "  n=length(echantillon[,1])\n",
    "  pi=theta_sol[[1]]\n",
    "  C = length(pi)\n",
    "  k=3*C-1\n",
    "  L=logvrais(theta_sol,echantillon)\n",
    "  return(k*log(n)-2*L)\n",
    "}"
   ]
  },
  {
   "cell_type": "markdown",
   "metadata": {
    "collapsed": true
   },
   "source": [
    "* **AIC et BIC en fonction du nombre de clusters pour notre échantillon**\n",
    "\n",
    "Stockons les valeurs de BIC et AIC obtenues pour notre échantillon en fonction de différents nombres de clusters (de 1 à 8) :"
   ]
  },
  {
   "cell_type": "code",
   "execution_count": 38,
   "metadata": {
    "collapsed": false
   },
   "outputs": [],
   "source": [
    "set.seed(123) # on fixe la graine\n",
    "listtheta = list()\n",
    "BIClist = c()\n",
    "AIClist = c()\n",
    "for (k in 1:8){\n",
    "  theta_sol = algo_EM(L = 5,maxiter = 50,echantillon = echantillon,C = k,seuil = 0.05)\n",
    "  listtheta = append(listtheta,list(theta_sol))\n",
    "  BIClist = c(BIClist,BIC(theta_sol,echantillon))\n",
    "  AIClist = c(AIClist,AIC(theta_sol,echantillon))\n",
    "}"
   ]
  },
  {
   "cell_type": "markdown",
   "metadata": {},
   "source": [
    "Affichons les résultats (valeurs AIC et BIC ainsi que les $\\widehat \\theta$ obtenus pour les différents nombres de clusters considérés) :"
   ]
  },
  {
   "cell_type": "code",
   "execution_count": 41,
   "metadata": {
    "collapsed": false
   },
   "outputs": [
    {
     "name": "stdout",
     "output_type": "stream",
     "text": [
      "[1] \"Liste des valeurs AIC obtenues\"\n",
      "[1] 3391.880 3020.466 2899.791 2824.321 2826.475 2827.908 2795.832 2833.734\n",
      "[1] \"Liste des valeurs BIC obtenues\"\n",
      "[1] 6788.189 6052.005 5817.298 5673.002 5683.954 5693.465 5635.956 5718.404\n"
     ]
    }
   ],
   "source": [
    "print(\"Liste des valeurs AIC obtenues\")\n",
    "print(AIClist)\n",
    "print(\"Liste des valeurs BIC obtenues\")\n",
    "print(BIClist)"
   ]
  },
  {
   "cell_type": "code",
   "execution_count": 42,
   "metadata": {
    "collapsed": false
   },
   "outputs": [
    {
     "name": "stdout",
     "output_type": "stream",
     "text": [
      "[1] \"theta_sol estimé pour un nombre de cluster C =  1\"\n",
      "[[1]]\n",
      "[1] 1\n",
      "\n",
      "[[2]]\n",
      "         [,1]    [,2]\n",
      "[1,] 16.26126 12.2869\n",
      "\n",
      "[[3]]\n",
      "         [,1]     [,2]     [,3]     [,4]\n",
      "[1,] 30.83737 10.24646 10.24646 88.77834\n",
      "\n",
      "[1] \"theta_sol estimé pour un nombre de cluster C =  2\"\n",
      "[[1]]\n",
      "[1] 0.5601062 0.4398938\n",
      "\n",
      "[[2]]\n",
      "         [,1]      [,2]\n",
      "[1,] 17.29695 19.861872\n",
      "[2,] 14.94254  2.641868\n",
      "\n",
      "[[3]]\n",
      "          [,1]       [,2]       [,3]      [,4]\n",
      "[1,] 50.183972 -0.1289976 -0.1289976  4.438309\n",
      "[2,]  3.098997  0.7489021  0.7489021 30.079001\n",
      "\n",
      "[1] \"theta_sol estimé pour un nombre de cluster C =  3\"\n",
      "[[1]]\n",
      "[1] 0.3583774 0.4452424 0.1963802\n",
      "\n",
      "[[2]]\n",
      "          [,1]     [,2]\n",
      "[1,] 22.180457 19.86747\n",
      "[2,] 14.943571  2.80570\n",
      "[3,]  8.446749 19.94920\n",
      "\n",
      "[[3]]\n",
      "         [,1]       [,2]       [,3]      [,4]\n",
      "[1,] 6.616265 -0.2383677 -0.2383677  6.118881\n",
      "[2,] 3.061203  0.7613386  0.7613386 31.971874\n",
      "[3,] 9.071668  0.5516193  0.5516193  1.029354\n",
      "\n",
      "[1] \"theta_sol estimé pour un nombre de cluster C =  4\"\n",
      "[[1]]\n",
      "[1] 0.1967585 0.2963531 0.3599714 0.1469170\n",
      "\n",
      "[[2]]\n",
      "          [,1]       [,2]\n",
      "[1,]  8.456465 19.9493629\n",
      "[2,] 14.845702 -0.8204881\n",
      "[3,] 22.162712 19.8548346\n",
      "[4,] 15.109669  9.9217442\n",
      "\n",
      "[[3]]\n",
      "          [,1]       [,2]       [,3]     [,4]\n",
      "[1,] 9.1062383  0.5521872  0.5521872 1.029489\n",
      "[2,] 4.0268311  0.2140843  0.2140843 4.454702\n",
      "[3,] 6.6646774 -0.1999617 -0.1999617 6.154028\n",
      "[4,] 0.9680868 -0.4251187 -0.4251187 7.723652\n",
      "\n",
      "[1] \"theta_sol estimé pour un nombre de cluster C =  5\"\n",
      "[[1]]\n",
      "[1] 0.14734578 0.19675092 0.30585090 0.05405448 0.29599792\n",
      "\n",
      "[[2]]\n",
      "          [,1]       [,2]\n",
      "[1,] 15.111485  9.9234564\n",
      "[2,]  8.455571 19.9480702\n",
      "[3,] 22.005132 19.9829600\n",
      "[4,] 23.068262 19.1015497\n",
      "[5,] 14.843933 -0.8257245\n",
      "\n",
      "[[3]]\n",
      "          [,1]       [,2]       [,3]     [,4]\n",
      "[1,] 0.9688952 -0.4423651 -0.4423651 7.951001\n",
      "[2,] 9.0964259  0.5423301  0.5423301 1.028571\n",
      "[3,] 6.4289385 -1.2037537 -1.2037537 5.745441\n",
      "[4,] 6.9150391  6.4517341  6.4517341 8.206662\n",
      "[5,] 4.0281393  0.2063517  0.2063517 4.434968\n",
      "\n",
      "[1] \"theta_sol estimé pour un nombre de cluster C =  6\"\n",
      "[[1]]\n",
      "[1] 0.19513020 0.28994776 0.04114739 0.11241664 0.19749202 0.16386599\n",
      "\n",
      "[[2]]\n",
      "          [,1]       [,2]\n",
      "[1,] 22.900412 19.6224287\n",
      "[2,] 14.818037 -0.8930633\n",
      "[3,] 14.172834 11.2465921\n",
      "[4,] 15.510418  9.0345091\n",
      "[5,]  8.480264 19.9526704\n",
      "[6,] 21.326288 20.1263326\n",
      "\n",
      "[[3]]\n",
      "          [,1]       [,2]       [,3]      [,4]\n",
      "[1,] 7.6265205  1.5537120  1.5537120  7.335188\n",
      "[2,] 4.0703622  0.1199241  0.1199241  4.250377\n",
      "[3,] 0.7988550  0.8794650  0.8794650  2.548016\n",
      "[4,] 0.5721312 -0.4566179 -0.4566179 11.250105\n",
      "[5,] 9.2287998  0.5723369  0.5723369  1.031411\n",
      "[6,] 3.9091938 -1.8215780 -1.8215780  4.664964\n",
      "\n",
      "[1] \"theta_sol estimé pour un nombre de cluster C =  7\"\n",
      "[[1]]\n",
      "[1] 0.28792829 0.22413139 0.03635055 0.00400000 0.19728364 0.11574657 0.13455956\n",
      "\n",
      "[[2]]\n",
      "          [,1]       [,2]\n",
      "[1,] 14.787263 -0.9377223\n",
      "[2,] 21.522845 19.5102595\n",
      "[3,] 14.017551 11.0938666\n",
      "[4,] 18.051512  4.0595937\n",
      "[5,]  8.473382 19.9515405\n",
      "[6,] 15.480012  9.3120449\n",
      "[7,] 23.294327 20.4413374\n",
      "\n",
      "[[3]]\n",
      "          [,1]        [,2]        [,3]        [,4]\n",
      "[1,] 3.9787312 -0.04147624 -0.04147624  4.04435199\n",
      "[2,] 4.1841302 -0.80733223 -0.80733223  5.39398938\n",
      "[3,] 0.6632637  0.76246035  0.76246035  2.44291256\n",
      "[4,] 0.4466377 -0.20725903 -0.20725903  0.09617707\n",
      "[5,] 9.1931801  0.56613130  0.56613130  1.03095555\n",
      "[6,] 0.5287196 -0.32426801 -0.32426801 10.82769648\n",
      "[7,] 8.4346432 -0.30523343 -0.30523343  6.87049932\n",
      "\n",
      "[1] \"theta_sol estimé pour un nombre de cluster C =  8\"\n",
      "[[1]]\n",
      "[1] 0.04090913 0.01870676 0.02625309 0.17775904 0.03761765 0.26398076 0.36010174\n",
      "[8] 0.07467183\n",
      "\n",
      "[[2]]\n",
      "          [,1]       [,2]\n",
      "[1,] 14.327896 10.9896959\n",
      "[2,]  3.354493 20.4988946\n",
      "[3,] 15.129538  6.6733824\n",
      "[4,]  8.979509 19.8913335\n",
      "[5,] 16.152336  1.0740210\n",
      "[6,] 14.625926 -0.9409054\n",
      "[7,] 22.161779 19.8564403\n",
      "[8,] 15.667353 10.7193115\n",
      "\n",
      "[[3]]\n",
      "          [,1]       [,2]       [,3]       [,4]\n",
      "[1,] 0.7383625  0.1282536  0.1282536  1.8315133\n",
      "[2,] 1.4668075  0.8365021  0.8365021  0.9837835\n",
      "[3,] 2.0542851 -2.0440785 -2.0440785  2.7527675\n",
      "[4,] 6.7903273  0.8458591  0.8458591  0.9972323\n",
      "[5,] 0.8524560 -2.6861080 -2.6861080 11.0127326\n",
      "[6,] 4.0102736  0.0683597  0.0683597  4.0751857\n",
      "[7,] 6.6635755 -0.2110124 -0.2110124  6.1485259\n",
      "[8,] 0.4031824 -0.8727079 -0.8727079  7.4748402\n",
      "\n"
     ]
    }
   ],
   "source": [
    "for (k in 1:8){\n",
    "    print(paste(\"theta_sol estimé pour un nombre de cluster C = \",k))\n",
    "    print(listtheta[[k]])\n",
    "}"
   ]
  },
  {
   "cell_type": "markdown",
   "metadata": {},
   "source": [
    "Voyons graphiquement les résultats obtenus :"
   ]
  },
  {
   "cell_type": "code",
   "execution_count": 43,
   "metadata": {
    "collapsed": false
   },
   "outputs": [
    {
     "data": {
      "image/png": "[encoded data removed]",
      "text/plain": [
       "Plot with title \"AIC en fonction du nombre de clusters\""
      ]
     },
     "metadata": {},
     "output_type": "display_data"
    }
   ],
   "source": [
    "options(repr.plot.width=9, repr.plot.height=4) # permet de choisir la taille des graphiques sur jupyter notebook\n",
    "par(mfrow = c(1,2))\n",
    "abscisse=1:8\n",
    "plot(x = abscisse,y = BIClist,type = 'l',col = \"red\", xlab = \"nombre de clusters\",ylab=\"BIC\",main = \"BIC en fonction du nombre de clusters\")\n",
    "plot(x = abscisse,y = AIClist,type = 'l',col = 'blue',xlab = \"nombre de clusters\",ylab=\"AIC\",main = \"AIC en fonction du nombre de clusters\")"
   ]
  },
  {
   "cell_type": "markdown",
   "metadata": {},
   "source": [
    "* $C \\in \\{1,2,3\\}$ et problème de sous-ajustement aux données :\n",
    "\n",
    "On constate que pour $C \\in \\{1,2,3\\}$, les critères BIC et AIC sont beaucoup plus hauts que pour les valeurs suivantes ($C \\in \\{4,...,8\\}$,).\n",
    "Ce résultat était attendu puisque le nombre sous-jacent de composantes gaussiennes se trouve être C=4, ce qui fait que tout modèle ayant moins de paramètres souffre de sous-ajustement aux données (\"underfiting\"). On parle aussi de problème de biais, ce qui se traduit visuellement dans nos graphiques. \n",
    "\n",
    "* $C \\in \\{5,...,8\\}$ et problème de sur-ajustement aux données :\n",
    "\n",
    "On constate également que pour $C \\in \\{4,...,8\\}$, les critères BIC et AIC restent presque constants. Cela traduit le fait que rajouter de la complexité au modèle ne peut que permettre de mieux correspondre aux données. Cela peut être expliqué par le fait que les modèles de mélange sont \"emboités\" : on peut toujours exprimer un mélange à x composantes via un mélange à (x+1) composantes. C'est pourquoi on ne perd rien du point de vue de la vraisemblance obtenue en ajoutant plus de clusters que nécessaire. En revanche, on pouvait espérer que les critères BIC et AIC pénalise davantage les modèles plus complexes ($C \\in \\{5,...,8\\}$ ) que le modèle sous-jacent. En effet, un résultat idéal aurait montré que les critères BIC et AIC ont des valeurs qui réaugmentent à partir de C=5. Ici, la pénalisation n'a pas suffi à faire augmenter la valeur des critères pour ces valeurs. \n",
    "\n",
    "Néanmoins, un analyste confronté à notre jeu de données sans en connaitre la loi sous-jacente et ayant recours à l'analyse AIC / BIC en concluerait probablement que C=4 semble réaliser le meilleur compromis biais-variance. En effet, C=4 est le plus petit nombre de clusters permettant d'obtenir les niveaux (approximativement) minimaux des deux critères. \n",
    "Il sera préféré à un nombre supérieur de clusters (C>4) puisque ces derniers sont plus prônes au surapprentissage et sont plus complexes sans obtenir de meilleur résultat AIC / BIC. "
   ]
  },
  {
   "cell_type": "markdown",
   "metadata": {},
   "source": [
    "* **Affichons les densités estimées pour un nombre de clusters C variant de 1 à 8**"
   ]
  },
  {
   "cell_type": "code",
   "execution_count": 44,
   "metadata": {
    "collapsed": false
   },
   "outputs": [
    {
     "data": {
      "image/png": "[encoded data removed]",
      "text/plain": [
       "Plot with title \"Densité estimée pour C= 1\""
      ]
     },
     "metadata": {},
     "output_type": "display_data"
    },
    {
     "data": {
      "image/png": "[encoded data removed]",
      "text/plain": [
       "Plot with title \"Densité estimée pour C= 2\""
      ]
     },
     "metadata": {},
     "output_type": "display_data"
    },
    {
     "data": {
      "image/png": "[encoded data removed]",
      "text/plain": [
       "Plot with title \"Densité estimée pour C= 3\""
      ]
     },
     "metadata": {},
     "output_type": "display_data"
    },
    {
     "data": {
      "image/png": "[encoded data removed]",
      "text/plain": [
       "Plot with title \"Densité estimée pour C= 4\""
      ]
     },
     "metadata": {},
     "output_type": "display_data"
    },
    {
     "data": {
      "image/png": "[encoded data removed]",
      "text/plain": [
       "Plot with title \"Densité estimée pour C= 5\""
      ]
     },
     "metadata": {},
     "output_type": "display_data"
    },
    {
     "data": {
      "image/png": "[encoded data removed]",
      "text/plain": [
       "Plot with title \"Densité estimée pour C= 6\""
      ]
     },
     "metadata": {},
     "output_type": "display_data"
    },
    {
     "data": {
      "image/png": "[encoded data removed]",
      "text/plain": [
       "Plot with title \"Densité estimée pour C= 7\""
      ]
     },
     "metadata": {},
     "output_type": "display_data"
    },
    {
     "data": {
      "image/png": "[encoded data removed]",
      "text/plain": [
       "Plot with title \"Densité estimée pour C= 8\""
      ]
     },
     "metadata": {},
     "output_type": "display_data"
    }
   ],
   "source": [
    "for (k in 1:8){\n",
    "    affiche_contour(Ech,listtheta[[k]])\n",
    "}"
   ]
  },
  {
   "cell_type": "markdown",
   "metadata": {
    "collapsed": true
   },
   "source": [
    "Les graphiques obtenus semblent renforcer les constats effectués sur la base des critères AIC / BIC. \n",
    "En effet, il est clair que les modèles pour $C \\in \\{1,2,3\\}$ perdent en pertinence de par le fait qu'ils aient un nombre de clusters insuffisants pour épouser au mieux les données : on constate que certains sous-groupes sont ainsi réunis ensemble. \n",
    "\n",
    "Pour C=4, le graphique obtenu est visuellement très proche de celui obtenu en Partie 1 à l'aide de la densité sous-jacente réelle.\n",
    "\n",
    "Pour $C \\in \\{5,...,8\\}$, il *semble* que la segmentation en sous-groupes additionnels n'apporte que peu d'information supplémentaire : certains des sous-groupes identifiés pour C=4 sont scindés en plusieurs autres mais on observe que ces nouveaux sous groupes identifiés deviennent difficilement discernables à l'oeil humain. Les clusters supplémentaires permettent donc de complexifier les formes des densités obtenues ce qui amène à plus de variance dans la modélisation (cela est particulièrement visible pour C=7 et 8)."
   ]
  },
  {
   "cell_type": "markdown",
   "metadata": {},
   "source": [
    "### Conclusion \n",
    "\n",
    "Dans ce projet, nous nous sommes concentrés sur la présentation des critères BIC et AIC, qui constituent un des outils majeurs concernant le choix du nombre de clusters au sein des algorithmes non supervisés. \n",
    "Notre échantillon synthétique aura permis d'illustrer la pertinence de ces critères en montrant que le \"coude\" obtenu sur les graphiques BIC / AIC (lorsque la courbe cesse de diminuer) peut permettre de choisir empiriquement un nombre pertinent de clusters. \n",
    "\n",
    "Notons que nous n'avons pas montré de résultats théoriques assurant la pertinence de ces critères mais que nous avons simplement voulu les illustrer empiriquement. Au-delà de la pertinence des critères présentés, nous remarquerons que cette méthode est relativement lourde à mettre en place puisqu'il faut calculer une solution par nombre de clusters exploré (dans notre cas 8). \n",
    "\n",
    "Remarquons également que d'autres méthodes existent en statistique afin de motiver le choix du nombre de clusters, comme par exemple le \"Silhouette Score\" ayant pour but d'estimer à quel point les clusters obtenus sont compacts et bien séparés. On peut également mentionner les approches dites de classification hiérarchique ascendante ou descendante (qui sont, elles aussi, lourdes et algorithmiquement complexes). \n",
    "\n",
    "Etudier ces autres méthodes et comparer leurs résultats à ceux obtenus par BIC / AIC pourrait ainsi constituer une piste d'approfondissement de l'analyse effectuée dans le cadre de ce projet."
   ]
  },
  {
   "cell_type": "code",
   "execution_count": null,
   "metadata": {
    "collapsed": true
   },
   "outputs": [],
   "source": []
  }
 ],
 "metadata": {
  "kernelspec": {
   "display_name": "R",
   "language": "R",
   "name": "ir"
  },
  "language_info": {
   "codemirror_mode": "r",
   "file_extension": ".r",
   "mimetype": "text/x-r-source",
   "name": "R",
   "pygments_lexer": "r",
   "version": "3.4.1"
  }
 },
 "nbformat": 4,
 "nbformat_minor": 1
}
